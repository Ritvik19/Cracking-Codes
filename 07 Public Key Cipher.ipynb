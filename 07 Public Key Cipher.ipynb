{
 "cells": [
  {
   "cell_type": "markdown",
   "metadata": {},
   "source": [
    "# Public Key Cipher\n",
    "\n",
    "The encryption key being the same as the decryption key leads to a tricky problem: how do you share encrypted messages with someone you’ve never talked to before? Any eavesdroppers would be able to intercept an encryption key you send just as easily as they could intercept the encrypted messages."
   ]
  },
  {
   "cell_type": "markdown",
   "metadata": {},
   "source": [
    "Public key cryptography solves this encryption problem by using two keys, one for encryption and one for decryption, and is an example of an asymmetric cipher. Ciphers that use the same key for encryption and decryption, are symmetric ciphers.\n",
    "\n",
    "It’s important to know that a message encrypted using the encryption key (public key) can only be decrypted using the decryption key (private key). So even if someone obtains the encryption key, they won’t be able to read the original message because the encryption key can’t decrypt the message.\n",
    "\n",
    "The encryption key is called the public key because it can be shared with the entire world. In contrast, the private key, or the decryption key, must be kept secret."
   ]
  },
  {
   "cell_type": "markdown",
   "metadata": {
    "ExecuteTime": {
     "end_time": "2020-05-21T15:51:28.164165Z",
     "start_time": "2020-05-21T15:51:28.156189Z"
    }
   },
   "source": [
    "The particular public key cipher we’ll implement is based on the RSA cipher, which was invented in 1977 and is named using the initials of the last names of its inventors: Ron Rivest, Adi Shamir, and Leonard Adleman.\n",
    "\n",
    "The RSA cipher uses large prime numbers hundreds of digits long in its algorithm. The public key algorithm creates two random prime numbers and then uses complicated math to create the public and private keys."
   ]
  },
  {
   "cell_type": "markdown",
   "metadata": {},
   "source": [
    "# Steps for Generating Public and Private Keys\n",
    "Each key in the public key scheme is made of two numbers. The public key will be the two numbers n and e. The private key will be the two numbers n and d.\n",
    "\n",
    "The three steps to create these numbers are as follows:\n",
    "\n",
    "* Create two random, distinct, very large prime numbers: p and q. Multiply these two numbers to get a number called n.\n",
    "* Create a random number, called e, which is relatively prime to (p – 1) × (q – 1).\n",
    "* Calculate the modular inverse of e, which we’ll call d.\n",
    "\n",
    "Notice that n is used in both keys. The d number must be kept secret because it can decrypt messages. Now you’re ready to write a program that generates these keys."
   ]
  },
  {
   "cell_type": "code",
   "execution_count": 1,
   "metadata": {
    "ExecuteTime": {
     "end_time": "2020-05-21T16:28:43.438479Z",
     "start_time": "2020-05-21T16:28:43.425482Z"
    }
   },
   "outputs": [],
   "source": [
    "from cracking_codes.utils import primenum, cryptomath\n",
    "import os, sys, random, math"
   ]
  },
  {
   "cell_type": "code",
   "execution_count": 2,
   "metadata": {
    "ExecuteTime": {
     "end_time": "2020-05-21T16:28:43.612010Z",
     "start_time": "2020-05-21T16:28:43.441439Z"
    }
   },
   "outputs": [],
   "source": [
    "def generateKey(keySize):\n",
    "    p = 0\n",
    "    q = 0\n",
    "    print('Generating p and q prime...')\n",
    "    while p == q:\n",
    "        p = primenum.generateLargePrime(keySize)\n",
    "        q = primenum.generateLargePrime(keySize)\n",
    "    n = p * q\n",
    "\n",
    "    print('Generating e that is relatively prime to (p-1)*(q-1)...')\n",
    "    while True:\n",
    "        e = random.randrange(2 ** (keySize - 1), 2 ** (keySize))\n",
    "        if cryptomath.gcd(e, (p - 1) * (q - 1)) == 1:\n",
    "            break\n",
    "\n",
    "    print('Calculating d that is mod inverse of e...')\n",
    "    d = cryptomath.findModInverse(e, (p - 1) * (q - 1))\n",
    "\n",
    "    publicKey = (n, e)\n",
    "    privateKey = (n, d)\n",
    "\n",
    "    print('Public key:', publicKey)\n",
    "    print('Private key:', privateKey)\n",
    "\n",
    "    return (publicKey, privateKey)\n",
    "\n",
    "\n",
    "def makeKeyFiles(name, keySize):\n",
    "    if os.path.exists(f'{name}_pubkey.txt') or os.path.exists(f'{name}_privkey.txt'):\n",
    "        sys.exit('WARNING: The files already exists! Use a different name or delete these files and rerun this program.')\n",
    "\n",
    "    publicKey, privateKey = generateKey(keySize)\n",
    "\n",
    "    print()\n",
    "    print(f'The public key is a {len(str(publicKey[0]))} and a {len(str(publicKey[1]))} digit number.')\n",
    "    print(f'Writing public key to file {name}_pubkey.txt...')\n",
    "    with open(f'{name}_pubkey.txt', 'w') as f:\n",
    "        f.write(f'{keySize},{publicKey[0]},{publicKey[1]}')\n",
    "\n",
    "    print()\n",
    "    print(f'The private key is a {len(str(publicKey[0]))} and a {len(str(publicKey[1]))} digit number.')\n",
    "    print(f'Writing private key to file {name}_privkey.txt...')\n",
    "    with open(f'{name}_privkey.txt', 'w') as f:\n",
    "        f.write(f'{keySize},{privateKey[0]},{privateKey[1]}')"
   ]
  },
  {
   "cell_type": "code",
   "execution_count": 3,
   "metadata": {
    "ExecuteTime": {
     "end_time": "2020-05-21T16:28:44.549559Z",
     "start_time": "2020-05-21T16:28:43.616998Z"
    }
   },
   "outputs": [
    {
     "name": "stdout",
     "output_type": "stream",
     "text": [
      "Generating p and q prime...\n",
      "Generating e that is relatively prime to (p-1)*(q-1)...\n",
      "Calculating d that is mod inverse of e...\n",
      "Public key: (17183626983322501017002559324039641591796758695542141994267492663265934163865332859404422662290592081979399963976998947961354950460590731968368901907711047564746246388447401964272463061464867584104361167089504185704419455151426578004954597621077268738778509572561447572705220032437024911241988050632945914303410811433986544530791797585505793583175716422959461509125773722275998968318599513707824468556391939884950212850638238519515688084009769940581452507866345450473774112211566807357919079098471472114216663854842807641437657226967064278070229884625169509718353105926472476329325557970007686430837558101598601470761, 109452362891108658480586139893954807836557001575594816089399816447998466148862151379315115886245551590081038584460795403054992604795578295077274576093968221865081038339099228588052603815247700004449157619486248488357583333649037129019746208855408838560729562752790420183490293324327724887703088457089425038227)\n",
      "Private key: (17183626983322501017002559324039641591796758695542141994267492663265934163865332859404422662290592081979399963976998947961354950460590731968368901907711047564746246388447401964272463061464867584104361167089504185704419455151426578004954597621077268738778509572561447572705220032437024911241988050632945914303410811433986544530791797585505793583175716422959461509125773722275998968318599513707824468556391939884950212850638238519515688084009769940581452507866345450473774112211566807357919079098471472114216663854842807641437657226967064278070229884625169509718353105926472476329325557970007686430837558101598601470761, 2235816654812476232203832081287980517470143751714673488544380953246231528050980180511114630719720061670523729363135776504898627108048614647129113421998304024500237528427550990457705381971212967097146671927650789292887483896003269324122793498516677999121578249531804123134631680680784911763518281531289317189450699603116756574088971160828510519407948943118898940389941573314834807329370319549994028292682557066074934136234278100799544752182372942788616714040430247146509221805492676591031996684223557174347895655829879294114544890011860734046686557432357151599012063519776203023896591665194328408972735166272939338263)\n",
      "\n",
      "The public key is a 617 and a 309 digit number.\n",
      "Writing public key to file ritvik19_pubkey.txt...\n",
      "\n",
      "The private key is a 617 and a 309 digit number.\n",
      "Writing private key to file ritvik19_privkey.txt...\n"
     ]
    }
   ],
   "source": [
    "makeKeyFiles('ritvik19', 1024)"
   ]
  },
  {
   "cell_type": "markdown",
   "metadata": {},
   "source": [
    "# How the Public Key Cipher Works\n",
    "Similar to the other ciphers, the public key cipher converts characters into numbers and then performs math on those numbers to encrypt them. What sets the public key cipher apart from other ciphers is that it converts multiple characters into one integer called a block and then encrypts one block at a time.\n",
    "\n",
    "The reason the public key cipher needs to work on a block that represents multiple characters is that if we used the public key encryption algorithm on a single character, the same plaintext characters would always encrypt to the same ciphertext characters. Therefore, the public key cipher would be no different from a simple substitution cipher with fancy mathematics."
   ]
  },
  {
   "cell_type": "code",
   "execution_count": 4,
   "metadata": {
    "ExecuteTime": {
     "end_time": "2020-05-21T16:28:44.558535Z",
     "start_time": "2020-05-21T16:28:44.553548Z"
    }
   },
   "outputs": [],
   "source": [
    "SYMBOLS = 'ABCDEFGHIJKLMNOPQRSTUVWXYZabcdefghijklmnopqrstuvwxyz1234567890 !?.'"
   ]
  },
  {
   "cell_type": "code",
   "execution_count": 5,
   "metadata": {
    "ExecuteTime": {
     "end_time": "2020-05-21T16:28:44.708134Z",
     "start_time": "2020-05-21T16:28:44.561528Z"
    }
   },
   "outputs": [],
   "source": [
    "def getBlocksFromText(message, blockSize):\n",
    "    for character in message:\n",
    "        if character not in SYMBOLS:\n",
    "            print(f'ERROR: The symbol set does not have the character {character}')\n",
    "            sys.exit()\n",
    "    blockInts = []\n",
    "    for blockStart in range(0, len(message), blockSize):\n",
    "        blockInt = 0\n",
    "        for i in range(blockStart, min(blockStart + blockSize, len(message))):\n",
    "            blockInt += (SYMBOLS.index(message[i])) * (len(SYMBOLS) ** (i % blockSize))\n",
    "        blockInts.append(blockInt)\n",
    "    return blockInts\n",
    "\n",
    "\n",
    "def getTextFromBlocks(blockInts, messageLength, blockSize):\n",
    "    message = []\n",
    "    for blockInt in blockInts:\n",
    "        blockMessage = []\n",
    "        for i in range(blockSize - 1, -1, -1):\n",
    "            if len(message) + i < messageLength:\n",
    "                charIndex = blockInt // (len(SYMBOLS) ** i)\n",
    "                blockInt = blockInt % (len(SYMBOLS) ** i)\n",
    "                blockMessage.insert(0, SYMBOLS[charIndex])\n",
    "        message.extend(blockMessage)\n",
    "    return ''.join(message)\n",
    "\n",
    "\n",
    "def encryptMessage(message, key, blockSize):\n",
    "    encryptedBlocks = []\n",
    "    n, e = key\n",
    "\n",
    "    for block in getBlocksFromText(message, blockSize):\n",
    "        encryptedBlocks.append(pow(block, e, n))\n",
    "    return encryptedBlocks\n",
    "\n",
    "\n",
    "def decryptMessage(encryptedBlocks, messageLength, key, blockSize):\n",
    "    decryptedBlocks = []\n",
    "    n, d = key\n",
    "    for block in encryptedBlocks:\n",
    "        decryptedBlocks.append(pow(block, d, n))\n",
    "    return getTextFromBlocks(decryptedBlocks, messageLength, blockSize)\n",
    "\n",
    "\n",
    "def readKeyFile(keyFilename):\n",
    "    with open(keyFilename) as f:\n",
    "        content = f.read()\n",
    "    keySize, n, EorD = content.split(',')\n",
    "    return (int(keySize), int(n), int(EorD))\n",
    "\n",
    "\n",
    "def encryptAndWriteToFile(messageFilename, keyFilename, message, blockSize=None):\n",
    "\n",
    "    keySize, n, e = readKeyFile(keyFilename)\n",
    "    if blockSize == None:\n",
    "        blockSize = int(math.log(2 ** keySize, len(SYMBOLS)))\n",
    "    if not (math.log(2 ** keySize, len(SYMBOLS)) >= blockSize):\n",
    "        sys.exit('ERROR: Block size is too large for the key and symbol set size.')\n",
    "    \n",
    "    encryptedBlocks = encryptMessage(message, (n, e), blockSize)\n",
    "\n",
    "    for i in range(len(encryptedBlocks)):\n",
    "        encryptedBlocks[i] = str(encryptedBlocks[i])\n",
    "    encryptedContent = ','.join(encryptedBlocks)\n",
    "\n",
    "    encryptedContent = f'{len(message)}_{blockSize}_{encryptedContent}'\n",
    "    with open(messageFilename, 'w') as f:\n",
    "        f.write(encryptedContent)\n",
    "    return encryptedContent\n",
    "\n",
    "\n",
    "def readFromFileAndDecrypt(messageFilename, keyFilename):\n",
    "    keySize, n, d = readKeyFile(keyFilename)\n",
    "\n",
    "    with open(messageFilename) as f:\n",
    "        content = f.read()\n",
    "    messageLength, blockSize, encryptedMessage = content.split('_')\n",
    "    messageLength = int(messageLength)\n",
    "    blockSize = int(blockSize)\n",
    "\n",
    "    if not (math.log(2 ** keySize, len(SYMBOLS)) >= blockSize):\n",
    "        sys.exit('ERROR: Block size is too large for the key and symbol set size.')\n",
    "\n",
    "    encryptedBlocks = []\n",
    "    for block in encryptedMessage.split(','):\n",
    "        encryptedBlocks.append(int(block))\n",
    "\n",
    "    return decryptMessage(encryptedBlocks, messageLength, (n, d),blockSize)"
   ]
  },
  {
   "cell_type": "code",
   "execution_count": 6,
   "metadata": {
    "ExecuteTime": {
     "end_time": "2020-05-21T16:28:44.865720Z",
     "start_time": "2020-05-21T16:28:44.711127Z"
    }
   },
   "outputs": [],
   "source": [
    "message = \"\"\"Journalists belong in the gutter because that is where the ruling classes throw their guilty secrets. Gerald Priestland. The Founding Fathers gave the free press the protection it must have to bare the secrets of government and inform the people. Hugo Black.\"\"\"\n",
    "\n",
    "filename = 'encrypted_file.txt'"
   ]
  },
  {
   "cell_type": "code",
   "execution_count": 7,
   "metadata": {
    "ExecuteTime": {
     "end_time": "2020-05-21T16:28:45.131300Z",
     "start_time": "2020-05-21T16:28:44.868713Z"
    }
   },
   "outputs": [
    {
     "name": "stdout",
     "output_type": "stream",
     "text": [
      "Encrypting and writing to file...\n",
      "Encrypted text:\n",
      "258_169_7089811149173130184902652642424232032553743380939344390616651100534222437748524339109708411109722863069767032980440712678046358339504859033337072931739432989525612236430763138860952047268363140776397359278039221070013433203310467744124256226860162779790602877830337547445051990309891807118520347825543821202377555182287605460302538947295634248773533415892048617059249365487430754547896784705779892800032069090807064681457628563324551345321073074480683082431097853521418718996941642486584959502374812337486741894939905788795309116141940041442071722688476694795604290943124741000037011974135524042808627294027293348050,12302107855732091141350716619096994655887250348404626153306095996333121791990269277445049929621681035459005481733394086232385960120030596909674662120535885265536601960985683575065399979588927653302573323483157666740101794733686924648686175462293903362374340474261399238920411864629634586170365577360113595232925379661618087125272190740124373416821040604042205129343746378234791446321196810038723975764429014617435957863738743220380430385672600297899104322656737102347383863363997455451491930411069359117203633728848572507374695504187484575858150360648125794980433913294768813883488336300328236673439352164367409758409\n"
     ]
    }
   ],
   "source": [
    "pubKeyFilename = 'ritvik19_pubkey.txt'\n",
    "print('Encrypting and writing to file...')\n",
    "encryptedText = encryptAndWriteToFile(filename, pubKeyFilename, message)\n",
    "\n",
    "print('Encrypted text:')\n",
    "print(encryptedText)"
   ]
  },
  {
   "cell_type": "code",
   "execution_count": 8,
   "metadata": {
    "ExecuteTime": {
     "end_time": "2020-05-21T16:28:45.485174Z",
     "start_time": "2020-05-21T16:28:45.135289Z"
    }
   },
   "outputs": [
    {
     "name": "stdout",
     "output_type": "stream",
     "text": [
      "Reading from file and decrypting...\n",
      "Decrypted text:\n",
      "Journalists belong in the gutter because that is where the ruling classes throw their guilty secrets. Gerald Priestland. The Founding Fathers gave the free press the protection it must have to bare the secrets of government and inform the people. Hugo Black.\n"
     ]
    }
   ],
   "source": [
    "privKeyFilename = 'ritvik19_privkey.txt'\n",
    "print('Reading from file and decrypting...')\n",
    "decryptedText = readFromFileAndDecrypt(filename, privKeyFilename)\n",
    "\n",
    "print('Decrypted text:')\n",
    "print(decryptedText)"
   ]
  },
  {
   "cell_type": "code",
   "execution_count": null,
   "metadata": {},
   "outputs": [],
   "source": []
  }
 ],
 "metadata": {
  "kernelspec": {
   "display_name": "Python 3",
   "language": "python",
   "name": "python3"
  },
  "language_info": {
   "codemirror_mode": {
    "name": "ipython",
    "version": 3
   },
   "file_extension": ".py",
   "mimetype": "text/x-python",
   "name": "python",
   "nbconvert_exporter": "python",
   "pygments_lexer": "ipython3",
   "version": "3.7.3"
  },
  "toc": {
   "base_numbering": 1,
   "nav_menu": {},
   "number_sections": true,
   "sideBar": true,
   "skip_h1_title": false,
   "title_cell": "Table of Contents",
   "title_sidebar": "Contents",
   "toc_cell": false,
   "toc_position": {},
   "toc_section_display": true,
   "toc_window_display": false
  },
  "varInspector": {
   "cols": {
    "lenName": 16,
    "lenType": 16,
    "lenVar": 40
   },
   "kernels_config": {
    "python": {
     "delete_cmd_postfix": "",
     "delete_cmd_prefix": "del ",
     "library": "var_list.py",
     "varRefreshCmd": "print(var_dic_list())"
    },
    "r": {
     "delete_cmd_postfix": ") ",
     "delete_cmd_prefix": "rm(",
     "library": "var_list.r",
     "varRefreshCmd": "cat(var_dic_list()) "
    }
   },
   "types_to_exclude": [
    "module",
    "function",
    "builtin_function_or_method",
    "instance",
    "_Feature"
   ],
   "window_display": false
  }
 },
 "nbformat": 4,
 "nbformat_minor": 2
}
