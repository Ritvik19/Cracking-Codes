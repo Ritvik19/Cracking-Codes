{
 "cells": [
  {
   "cell_type": "markdown",
   "metadata": {},
   "source": [
    "# Simple Substitution Cipher\n",
    "\n",
    "The affine cipher has about a thousand possible keys but that computers can still brute-force through all of them easily. We need a cipher that has so many possible keys that no computer can brute-force through them all.\n",
    "\n",
    "The simple substitution cipher is one such cipher that is effectively invulnerable to a brute-force attack because it has an enormous number of possible keys. Even if your computer could try a trillion keys every second, it would still take 12 million years for it to try every one"
   ]
  },
  {
   "cell_type": "markdown",
   "metadata": {},
   "source": [
    "To implement the simple substitution cipher, we choose a random letter to encrypt each letter of the alphabet, using each letter only once. The key for the simple substitution cipher is always a string of 26 letters of the alphabet in random order. There are 403,291,461,126,605,635,584,000,000 different possible key orderings for the simple substitution cipher. That’s a lot of keys! More important, this number is so large that it’s impossible to brute-force."
   ]
  },
  {
   "cell_type": "code",
   "execution_count": 1,
   "metadata": {
    "ExecuteTime": {
     "end_time": "2020-05-21T11:25:28.393396Z",
     "start_time": "2020-05-21T11:25:28.388410Z"
    }
   },
   "outputs": [],
   "source": [
    "LETTERS = 'ABCDEFGHIJKLMNOPQRSTUVWXYZ'"
   ]
  },
  {
   "cell_type": "code",
   "execution_count": 2,
   "metadata": {
    "ExecuteTime": {
     "end_time": "2020-05-21T11:25:28.544992Z",
     "start_time": "2020-05-21T11:25:28.397386Z"
    }
   },
   "outputs": [],
   "source": [
    "def keyIsValid(key):\n",
    "    keyList = list(key)\n",
    "    lettersList = list(LETTERS)\n",
    "    keyList.sort()\n",
    "    lettersList.sort()\n",
    "\n",
    "    return keyList == lettersList\n",
    "\n",
    "\n",
    "def encryptSimpleSubstitutionCipher(key, message):\n",
    "    return translateSimpleSubstitutionCipher(key, message, 'encrypt')\n",
    "\n",
    "\n",
    "def decryptSimpleSubstitutionCipher(key, message):\n",
    "    return translateSimpleSubstitutionCipher(key, message, 'decrypt')\n",
    "\n",
    "\n",
    "def translateSimpleSubstitutionCipher(key, message, mode):\n",
    "    translated = ''\n",
    "    charsA = LETTERS\n",
    "    charsB = key\n",
    "    if mode == 'decrypt':\n",
    "        charsA, charsB = charsB, charsA\n",
    "\n",
    "    for symbol in message:\n",
    "        if symbol.upper() in charsA:\n",
    "            symIndex = charsA.find(symbol.upper())\n",
    "            if symbol.isupper():\n",
    "                translated += charsB[symIndex].upper()\n",
    "            else:\n",
    "                translated += charsB[symIndex].lower()\n",
    "        else:\n",
    "            translated += symbol\n",
    "\n",
    "    return translated\n",
    "\n",
    "\n",
    "def getRandomKey():\n",
    "    key = list(LETTERS)\n",
    "    random.shuffle(key)\n",
    "    return ''.join(key)"
   ]
  },
  {
   "cell_type": "code",
   "execution_count": 3,
   "metadata": {
    "ExecuteTime": {
     "end_time": "2020-05-21T11:25:28.698638Z",
     "start_time": "2020-05-21T11:25:28.551974Z"
    }
   },
   "outputs": [
    {
     "data": {
      "text/plain": [
       "'Iammp, Epcmo'"
      ]
     },
     "execution_count": 3,
     "metadata": {},
     "output_type": "execute_result"
    }
   ],
   "source": [
    "encryptSimpleSubstitutionCipher('LFWOAYUISVKMNXPBDCRJTQEGHZ', 'Hello, World')"
   ]
  },
  {
   "cell_type": "code",
   "execution_count": 4,
   "metadata": {
    "ExecuteTime": {
     "end_time": "2020-05-21T11:25:28.840936Z",
     "start_time": "2020-05-21T11:25:28.702658Z"
    }
   },
   "outputs": [
    {
     "data": {
      "text/plain": [
       "'Hello, World'"
      ]
     },
     "execution_count": 4,
     "metadata": {},
     "output_type": "execute_result"
    }
   ],
   "source": [
    "decryptSimpleSubstitutionCipher('LFWOAYUISVKMNXPBDCRJTQEGHZ', 'Iammp, Epcmo')"
   ]
  },
  {
   "cell_type": "markdown",
   "metadata": {},
   "source": [
    "# Hacking Simple Substitution Cipher\n",
    "\n",
    "The simple substitution cipher is impossible to crack using brute force because it has too many possible keys. To hack the simple substitution cipher, we need to create a more sophisticated program that uses dictionary values to map the potential decryption letters of a ciphertext.\n",
    "\n",
    "In brute-force attacks, we try each possible key to check whether it can decrypt the ciphertext. If the key is correct, the decryption results in readable English. But by analyzing the ciphertext first, we can reduce the number of possible keys to try and maybe even find a full or partial key.\n",
    "\n",
    "Let’s assume the original plaintext consists mostly of words in an English dictionary file, like the one we used in Chapter 11. Although a ciphertext won’t be made of real English words, it will still contain groups of letters broken up by spaces, just like words in regular sentences.\n",
    "\n",
    "Because each plaintext letter can encrypt to only one cipherletter, and we’re not encrypting spaces in this version of the cipher, the plaintext and ciphertext will share the same word patterns.\n",
    "\n",
    "For example, if we had the plaintext MISSISSIPPI SPILL, the corresponding ciphertext might be RJBBJBBJXXJ BXJHH. The number of letters in the first word of the plaintext and the first cipherword are the same. The same is true for the second plaintext word and the second cipher­word. The plaintext and ciphertext share the same pattern of letters and spaces. Also notice that letters that repeat in the plaintext repeat the same number of times and in the same places as the ciphertext.\n",
    "\n",
    "We could therefore assume that a cipherword corresponds to a word in the English dictionary file and that their word patterns would match. Then, if we can find which word in the dictionary the cipherword decrypts to, we can figure out the decryption of each cipherletter in that word. And if we figure out enough cipherletter decryptions using this technique, we may be able to decrypt the entire message."
   ]
  },
  {
   "cell_type": "markdown",
   "metadata": {},
   "source": [
    "## Finding Word Patterns\n",
    "Let’s examine the word pattern of the cipherword HGHHU. You can see that the cipherword has certain characteristics, which the original plaintext word must share. Both words must have the following in common.\n",
    "\n",
    "* They should be five letters long.\n",
    "\n",
    "* The first, third, and fourth letters should be the same.\n",
    "\n",
    "* They should have exactly three different letters; the first, second, and fifth letters should all be different.\n",
    "\n",
    "Let’s think of words in the English language that fit this pattern. Puppy is one such word, which is five letters long (P, U, P, P, Y) and uses three different letters (P, U, Y) arranged in that same pattern (P for the first, third, and fourth letter; U for the second letter; and Y for the fifth letter). Mommy, bobby, lulls, and nanny fit the pattern, too. These words, along with any other word in the English dictionary file that matches the criteria, are all possible decryptions of HGHHU.\n",
    "\n",
    "To represent a word pattern in a way the program can understand, we’ll make each pattern into a set of numbers separated by periods that indicates the pattern of letters.\n",
    "\n",
    "Creating word patterns is easy: the first letter gets the number 0, and the first occurrence of each different letter thereafter gets the next number. For example, the word pattern for cat is 0.1.2, and the word pattern for classification is 0.1.2.3.3.4.5.4.0.2.6.4.7.8.\n",
    "\n",
    "In simple substitution ciphers, no matter which key is used to encrypt, a plaintext word and its cipherword always have the same word pattern. The word pattern for the cipherword HGHHU is 0.1.0.0.2, which means the word pattern of the plaintext corresponding to HGHHU is also 0.1.0.0.2."
   ]
  },
  {
   "cell_type": "markdown",
   "metadata": {},
   "source": [
    "## Finding Potential Decryption Letters\n",
    "To decrypt HGHHU, we need to find all the words in an English dictionary file whose word pattern is also 0.1.0.0.2. In this book, we’ll call the plaintext words that have the same word pattern as the cipherword the candidates for that cipherword. Here is a list of candidates for HGHHU:\n",
    "\n",
    "* puppy\n",
    "* mommy\n",
    "* bobby\n",
    "* lulls\n",
    "* nanny\n",
    "\n",
    "Using word patterns, we can guess which plaintext letters cipherletters might decrypt to, which we’ll call the cipherletter’s potential decryption letters. To crack a message encrypted with the simple substitution cipher, we need to find all the potential decryption letters of each word in the message and determine the actual decryption letters through the process of elimination"
   ]
  },
  {
   "cell_type": "markdown",
   "metadata": {},
   "source": [
    "* H has the potential decryption letters P, M, B, L, and N.\n",
    "* G has the potential decryption letters U, O, and A.\n",
    "* U has the potential decryption letters Y and S.\n",
    "\n",
    "All of the other cipherletters besides H, G, and U have no potential decryption letters in this example.\n",
    "\n",
    "A cipherletter mapping shows all the letters of the alphabet and their potential decryption letters. As we start to gather encrypted messages, we’ll find potential decryption letters for every letter in the alphabet, but because only the cipherletters H, G, and U were part of our example ciphertext, we don’t have the potential decryption letters of other cipherletters."
   ]
  },
  {
   "cell_type": "markdown",
   "metadata": {},
   "source": [
    "We’ll use a dictionary value to represent cipherletter mappings. This dictionary has 26 key-value pairs, one key for each letter of the alphabet and a list of potential decryption letters for each letter. \n",
    "\n",
    "If we can reduce the number of potential decryption letters for a cipherletter to just one letter by cross-referencing cipherletter mappings of other encrypted words, we can find what that cipherletter decrypts to. Even if we can’t solve all 26 cipherletters, we might be able to hack most of the cipherletter mappings to decrypt most of the ciphertext."
   ]
  },
  {
   "cell_type": "markdown",
   "metadata": {},
   "source": [
    "## Overview of the Hacking Process\n",
    "Hacking the simple substitution cipher is pretty easy using word patterns. We can summarize the major steps of the hacking process as follows:\n",
    "\n",
    "* Find the word pattern for each cipherword in the ciphertext.\n",
    "* Find the English word candidates that each cipherword could decrypt to.\n",
    "* Create a dictionary showing potential decryption letters for each cipherletter to act as the cipherletter mapping for each cipherword.\n",
    "* Combine the cipherletter mappings into a single mapping, which we’ll call an intersected mapping.\n",
    "* Remove any solved cipherletters from the combined mapping.\n",
    "* Decrypt the ciphertext with the solved cipherletters.\n",
    "\n",
    "The more cipherwords in a ciphertext, the more likely it is for the mappings to overlap with one another and the fewer the potential decryption letters for each cipherletter. This means that in the simple substitution cipher, the longer the ciphertext message, the easier it is to hack."
   ]
  },
  {
   "cell_type": "code",
   "execution_count": 5,
   "metadata": {
    "ExecuteTime": {
     "end_time": "2020-05-21T11:25:28.990576Z",
     "start_time": "2020-05-21T11:25:28.851905Z"
    }
   },
   "outputs": [],
   "source": [
    "from cracking_codes.utils import wordpatterns, makewordpatterns"
   ]
  },
  {
   "cell_type": "code",
   "execution_count": 6,
   "metadata": {
    "ExecuteTime": {
     "end_time": "2020-05-21T11:25:29.099340Z",
     "start_time": "2020-05-21T11:25:28.993595Z"
    }
   },
   "outputs": [],
   "source": [
    "import re, copy"
   ]
  },
  {
   "cell_type": "code",
   "execution_count": 7,
   "metadata": {
    "ExecuteTime": {
     "end_time": "2020-05-21T11:25:29.236478Z",
     "start_time": "2020-05-21T11:25:29.101335Z"
    }
   },
   "outputs": [],
   "source": [
    "nonLettersOrSpacePattern = re.compile('[^A-Z\\s]')"
   ]
  },
  {
   "cell_type": "code",
   "execution_count": 8,
   "metadata": {
    "ExecuteTime": {
     "end_time": "2020-05-21T11:25:29.370565Z",
     "start_time": "2020-05-21T11:25:29.245465Z"
    }
   },
   "outputs": [],
   "source": [
    "def getBlankCipherletterMapping():\n",
    "    return {'A': [], 'B': [], 'C': [], 'D': [], 'E': [], 'F': [], 'G': [],\n",
    "       'H': [], 'I': [], 'J': [], 'K': [], 'L': [], 'M': [], 'N': [],\n",
    "       'O': [], 'P': [], 'Q': [], 'R': [], 'S': [], 'T': [], 'U': [],\n",
    "       'V': [], 'W': [], 'X': [], 'Y': [], 'Z': []}\n",
    "\n",
    "\n",
    "def addLettersToMapping(letterMapping, cipherword, candidate):\n",
    "    for i in range(len(cipherword)):\n",
    "        if candidate[i] not in letterMapping[cipherword[i]]:\n",
    "            letterMapping[cipherword[i]].append(candidate[i])\n",
    "\n",
    "\n",
    "def intersectMappings(mapA, mapB):\n",
    "    intersectedMapping = getBlankCipherletterMapping()\n",
    "    for letter in LETTERS:\n",
    "        if mapA[letter] == []:\n",
    "            intersectedMapping[letter] = copy.deepcopy(mapB[letter])\n",
    "        elif mapB[letter] == []:\n",
    "            intersectedMapping[letter] = copy.deepcopy(mapA[letter])\n",
    "        else:\n",
    "            for mappedLetter in mapA[letter]:\n",
    "                if mappedLetter in mapB[letter]:\n",
    "                    intersectedMapping[letter].append(mappedLetter)\n",
    "\n",
    "    return intersectedMapping\n",
    "\n",
    "\n",
    "def removeSolvedLettersFromMapping(letterMapping):\n",
    "    loopAgain = True\n",
    "    while loopAgain:\n",
    "        loopAgain = False\n",
    "\n",
    "        solvedLetters = []\n",
    "        for cipherletter in LETTERS:\n",
    "            if len(letterMapping[cipherletter]) == 1:\n",
    "                solvedLetters.append(letterMapping[cipherletter][0])\n",
    "\n",
    "        for cipherletter in LETTERS:\n",
    "            for s in solvedLetters:\n",
    "                if len(letterMapping[cipherletter]) != 1 and s in letterMapping[cipherletter]:\n",
    "                    letterMapping[cipherletter].remove(s)\n",
    "                    if len(letterMapping[cipherletter]) == 1:\n",
    "                        loopAgain = True\n",
    "    return letterMapping\n",
    "\n",
    "\n",
    "def hackSimpleSubstitutionCipher(message):\n",
    "    intersectedMap = getBlankCipherletterMapping()\n",
    "    cipherwordList = nonLettersOrSpacePattern.sub('', message.upper()).split()\n",
    "    for cipherword in cipherwordList:\n",
    "        candidateMap = getBlankCipherletterMapping()\n",
    "\n",
    "        wordPattern = makewordpatterns.getWordPattern(cipherword)\n",
    "        if wordPattern not in wordpatterns.allPatterns:\n",
    "            continue \n",
    "        for candidate in wordpatterns.allPatterns[wordPattern]:\n",
    "            addLettersToMapping(candidateMap, cipherword, candidate)\n",
    "\n",
    "        intersectedMap = intersectMappings(intersectedMap, candidateMap)\n",
    "\n",
    "    return removeSolvedLettersFromMapping(intersectedMap)\n",
    "\n",
    "\n",
    "def decryptWithCipherletterMapping(ciphertext, letterMapping):\n",
    "\n",
    "    key = ['x'] * len(LETTERS)\n",
    "    for cipherletter in LETTERS:\n",
    "        if len(letterMapping[cipherletter]) == 1:\n",
    "            keyIndex = LETTERS.find(letterMapping[cipherletter][0])\n",
    "            key[keyIndex] = cipherletter\n",
    "        else:\n",
    "            ciphertext = ciphertext.replace(cipherletter.lower(), '_')\n",
    "            ciphertext = ciphertext.replace(cipherletter.upper(), '_')\n",
    "    key = ''.join(key)\n",
    "\n",
    "    return decryptSimpleSubstitutionCipher(key, ciphertext)"
   ]
  },
  {
   "cell_type": "code",
   "execution_count": 9,
   "metadata": {
    "ExecuteTime": {
     "end_time": "2020-05-21T11:25:29.514277Z",
     "start_time": "2020-05-21T11:25:29.373557Z"
    }
   },
   "outputs": [],
   "source": [
    "message = \"\"\"Sy l nlx sr pyyacao l ylwj eiswi upar lulsxrj isr sxrjsxwjr, ia esmm rwctjsxsza sj wmpramh, lxo txmarr jia\n",
    "aqsoaxwa sr pqaceiamnsxu, ia esmm caytra jp famsaqa sj. Sy, px jia pjiac ilxo, ia sr pyyacao rpnajisxu eiswi lyypcor l calrpx\n",
    "ypc lwjsxu sx lwwpcolxwa jp isr sxrjsxwjr, ia esmm lwwabj sj aqax px jia rmsuijarj aqsoaxwa. Jia pcsusx py nhjir sr agbmlsxao\n",
    "sx jisr elh. -Facjclxo Ctrramm\"\"\""
   ]
  },
  {
   "cell_type": "code",
   "execution_count": 10,
   "metadata": {
    "ExecuteTime": {
     "end_time": "2020-05-21T11:25:29.763794Z",
     "start_time": "2020-05-21T11:25:29.520299Z"
    }
   },
   "outputs": [],
   "source": [
    "letterMapping = hackSimpleSubstitutionCipher(message)"
   ]
  },
  {
   "cell_type": "code",
   "execution_count": 11,
   "metadata": {
    "ExecuteTime": {
     "end_time": "2020-05-21T11:25:29.811975Z",
     "start_time": "2020-05-21T11:25:29.766736Z"
    }
   },
   "outputs": [
    {
     "data": {
      "text/plain": [
       "'If a man is offered a fact which goes against his instincts, he will scrutinize it closel_, and unless the\\nevidence is overwhelming, he will refuse to _elieve it. If, on the other hand, he is offered something which affords a reason\\nfor acting in accordance to his instincts, he will acce_t it even on the slightest evidence. The origin of m_ths is e__lained\\nin this wa_. -_ertrand Russell'"
      ]
     },
     "execution_count": 11,
     "metadata": {},
     "output_type": "execute_result"
    }
   ],
   "source": [
    "decryptWithCipherletterMapping(message, letterMapping)"
   ]
  },
  {
   "cell_type": "code",
   "execution_count": null,
   "metadata": {},
   "outputs": [],
   "source": []
  }
 ],
 "metadata": {
  "kernelspec": {
   "display_name": "Python 3",
   "language": "python",
   "name": "python3"
  },
  "language_info": {
   "codemirror_mode": {
    "name": "ipython",
    "version": 3
   },
   "file_extension": ".py",
   "mimetype": "text/x-python",
   "name": "python",
   "nbconvert_exporter": "python",
   "pygments_lexer": "ipython3",
   "version": "3.7.3"
  },
  "toc": {
   "base_numbering": 1,
   "nav_menu": {},
   "number_sections": true,
   "sideBar": true,
   "skip_h1_title": false,
   "title_cell": "Table of Contents",
   "title_sidebar": "Contents",
   "toc_cell": false,
   "toc_position": {},
   "toc_section_display": true,
   "toc_window_display": false
  },
  "varInspector": {
   "cols": {
    "lenName": 16,
    "lenType": 16,
    "lenVar": 40
   },
   "kernels_config": {
    "python": {
     "delete_cmd_postfix": "",
     "delete_cmd_prefix": "del ",
     "library": "var_list.py",
     "varRefreshCmd": "print(var_dic_list())"
    },
    "r": {
     "delete_cmd_postfix": ") ",
     "delete_cmd_prefix": "rm(",
     "library": "var_list.r",
     "varRefreshCmd": "cat(var_dic_list()) "
    }
   },
   "types_to_exclude": [
    "module",
    "function",
    "builtin_function_or_method",
    "instance",
    "_Feature"
   ],
   "window_display": false
  }
 },
 "nbformat": 4,
 "nbformat_minor": 2
}
