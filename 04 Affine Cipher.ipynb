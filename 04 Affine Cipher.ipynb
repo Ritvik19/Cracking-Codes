{
 "cells": [
  {
   "cell_type": "markdown",
   "metadata": {},
   "source": [
    "# Affine Cipher\n",
    "\n",
    "The affine cipher is actually the multiplicative cipher combined with the Caesar cipher, and the multiplicative cipher is similar to the Caesar cipher except it uses multiplication instead of addition to encrypt messages. Because the affine cipher uses two different ciphers as part of its encryption process, it needs two keys: one for the multiplicative cipher and another for the Caesar cipher."
   ]
  },
  {
   "cell_type": "code",
   "execution_count": 1,
   "metadata": {
    "ExecuteTime": {
     "end_time": "2020-05-21T08:21:33.552427Z",
     "start_time": "2020-05-21T08:21:33.541430Z"
    }
   },
   "outputs": [],
   "source": [
    "from cracking_codes.utils import cryptomath\n",
    "import random"
   ]
  },
  {
   "cell_type": "code",
   "execution_count": 2,
   "metadata": {
    "ExecuteTime": {
     "end_time": "2020-05-21T08:21:34.106622Z",
     "start_time": "2020-05-21T08:21:34.100637Z"
    }
   },
   "outputs": [],
   "source": [
    "SYMBOLS = 'ABCDEFGHIJKLMNOPQRSTUVWXYZabcdefghijklmnopqrstuvwxyz1234567890 !?.'"
   ]
  },
  {
   "cell_type": "code",
   "execution_count": 3,
   "metadata": {
    "ExecuteTime": {
     "end_time": "2020-05-21T08:21:34.664067Z",
     "start_time": "2020-05-21T08:21:34.645119Z"
    }
   },
   "outputs": [],
   "source": [
    "def getKeyParts(key):\n",
    "    keyA = key // len(SYMBOLS)\n",
    "    keyB = key % len(SYMBOLS)\n",
    "    return (keyA, keyB)\n",
    "\n",
    "\n",
    "def checkKeys(keyA, keyB, mode):\n",
    "    if keyA == 1 and mode == 'encrypt':\n",
    "        sys.exit('Cipher is weak if key A is 1. Choose a different key.')\n",
    "    if keyB == 0 and mode == 'encrypt':\n",
    "        sys.exit('Cipher is weak if key B is 0. Choose a different key.')\n",
    "    if keyA < 0 or keyB < 0 or keyB > len(SYMBOLS) - 1:\n",
    "        sys.exit('Key A must be greater than 0 and Key B must be between 0 and %s.' % (len(SYMBOLS) - 1))\n",
    "    if cryptomath.gcd(keyA, len(SYMBOLS)) != 1:\n",
    "        sys.exit('Key A (%s) and the symbol set size (%s) are not relatively prime. Choose a different key.' % (keyA, len(SYMBOLS)))\n",
    "\n",
    "\n",
    "def encryptAffineCipher(key, message):\n",
    "    keyA, keyB = getKeyParts(key)\n",
    "    checkKeys(keyA, keyB, 'encrypt')\n",
    "    ciphertext = ''\n",
    "    for symbol in message:\n",
    "        if symbol in SYMBOLS:\n",
    "            symbolIndex = SYMBOLS.find(symbol)\n",
    "            ciphertext += SYMBOLS[(symbolIndex * keyA + keyB) % len(SYMBOLS)]\n",
    "        else:\n",
    "            ciphertext += symbol\n",
    "    return ciphertext\n",
    "\n",
    "\n",
    "def decryptAffineCipher(key, message):\n",
    "    keyA, keyB = getKeyParts(key)\n",
    "    checkKeys(keyA, keyB, 'decrypt')\n",
    "    plaintext = ''\n",
    "    modInverseOfKeyA = cryptomath.findModInverse(keyA, len(SYMBOLS))\n",
    "\n",
    "    for symbol in message:\n",
    "        if symbol in SYMBOLS:\n",
    "            symbolIndex = SYMBOLS.find(symbol)\n",
    "            plaintext += SYMBOLS[(symbolIndex - keyB) * modInverseOfKeyA % len(SYMBOLS)]\n",
    "        else:\n",
    "            plaintext += symbol\n",
    "    return plaintext\n",
    "\n",
    "\n",
    "def getRandomKey():\n",
    "    while True:\n",
    "        keyA = random.randint(2, len(SYMBOLS))\n",
    "        keyB = random.randint(2, len(SYMBOLS))\n",
    "        if cryptomath.gcd(keyA, len(SYMBOLS)) == 1:\n",
    "            print(keyA * len(SYMBOLS) + keyB)\n",
    "            return keyA * len(SYMBOLS) + keyB"
   ]
  },
  {
   "cell_type": "code",
   "execution_count": 4,
   "metadata": {
    "ExecuteTime": {
     "end_time": "2020-05-21T08:21:35.444903Z",
     "start_time": "2020-05-21T08:21:35.429943Z"
    }
   },
   "outputs": [
    {
     "name": "stdout",
     "output_type": "stream",
     "text": [
      "1917\n"
     ]
    },
    {
     "data": {
      "text/plain": [
       "'IPUUp,Tvp U1'"
      ]
     },
     "execution_count": 4,
     "metadata": {},
     "output_type": "execute_result"
    }
   ],
   "source": [
    "encryptAffineCipher(getRandomKey(), \"Hello, World\")"
   ]
  },
  {
   "cell_type": "code",
   "execution_count": 5,
   "metadata": {
    "ExecuteTime": {
     "end_time": "2020-05-21T08:21:50.907931Z",
     "start_time": "2020-05-21T08:21:50.900952Z"
    }
   },
   "outputs": [
    {
     "data": {
      "text/plain": [
       "'Hello, World'"
      ]
     },
     "execution_count": 5,
     "metadata": {},
     "output_type": "execute_result"
    }
   ],
   "source": [
    "decryptAffineCipher(1917, 'IPUUp,Tvp U1')"
   ]
  },
  {
   "cell_type": "code",
   "execution_count": 6,
   "metadata": {
    "ExecuteTime": {
     "end_time": "2020-05-21T08:21:52.927476Z",
     "start_time": "2020-05-21T08:21:52.900553Z"
    }
   },
   "outputs": [],
   "source": [
    "from cracking_codes.utils import detect_english"
   ]
  },
  {
   "cell_type": "code",
   "execution_count": 7,
   "metadata": {
    "ExecuteTime": {
     "end_time": "2020-05-21T08:21:54.599025Z",
     "start_time": "2020-05-21T08:21:54.589052Z"
    }
   },
   "outputs": [],
   "source": [
    "def hackAffineCipher(message, silent=True):\n",
    "    for key in range(len(SYMBOLS) ** 2):\n",
    "        keyA = getKeyParts(key)[0]\n",
    "        if cryptomath.gcd(keyA, len(SYMBOLS)) != 1:\n",
    "            continue\n",
    "\n",
    "        decryptedText = decryptAffineCipher(key, message)\n",
    "        if not silent:\n",
    "            print(f'Trying key #{key}...')\n",
    "\n",
    "        if detect_english.isEnglish(decryptedText):\n",
    "            print()\n",
    "            print('Possible encryption hack:')\n",
    "            print('Key:',key)\n",
    "            print('Decrypted message: ' + decryptedText[:200])\n",
    "            print()"
   ]
  },
  {
   "cell_type": "code",
   "execution_count": 8,
   "metadata": {
    "ExecuteTime": {
     "end_time": "2020-05-21T08:21:58.628132Z",
     "start_time": "2020-05-21T08:21:58.573279Z"
    }
   },
   "outputs": [
    {
     "name": "stdout",
     "output_type": "stream",
     "text": [
      "\n",
      "Possible encryption hack:\n",
      "Key: 1917\n",
      "Decrypted message: Hello, World\n",
      "\n",
      "\n",
      "Possible encryption hack:\n",
      "Key: 3133\n",
      "Decrypted message: duLL ,SU vLz\n",
      "\n"
     ]
    }
   ],
   "source": [
    "hackAffineCipher('IPUUp,Tvp U1')"
   ]
  },
  {
   "cell_type": "code",
   "execution_count": null,
   "metadata": {},
   "outputs": [],
   "source": []
  }
 ],
 "metadata": {
  "kernelspec": {
   "display_name": "Python 3",
   "language": "python",
   "name": "python3"
  },
  "language_info": {
   "codemirror_mode": {
    "name": "ipython",
    "version": 3
   },
   "file_extension": ".py",
   "mimetype": "text/x-python",
   "name": "python",
   "nbconvert_exporter": "python",
   "pygments_lexer": "ipython3",
   "version": "3.7.3"
  },
  "toc": {
   "base_numbering": 1,
   "nav_menu": {},
   "number_sections": true,
   "sideBar": true,
   "skip_h1_title": false,
   "title_cell": "Table of Contents",
   "title_sidebar": "Contents",
   "toc_cell": false,
   "toc_position": {},
   "toc_section_display": true,
   "toc_window_display": false
  },
  "varInspector": {
   "cols": {
    "lenName": 16,
    "lenType": 16,
    "lenVar": 40
   },
   "kernels_config": {
    "python": {
     "delete_cmd_postfix": "",
     "delete_cmd_prefix": "del ",
     "library": "var_list.py",
     "varRefreshCmd": "print(var_dic_list())"
    },
    "r": {
     "delete_cmd_postfix": ") ",
     "delete_cmd_prefix": "rm(",
     "library": "var_list.r",
     "varRefreshCmd": "cat(var_dic_list()) "
    }
   },
   "types_to_exclude": [
    "module",
    "function",
    "builtin_function_or_method",
    "instance",
    "_Feature"
   ],
   "window_display": false
  }
 },
 "nbformat": 4,
 "nbformat_minor": 2
}
