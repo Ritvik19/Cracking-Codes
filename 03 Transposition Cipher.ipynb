{
 "cells": [
  {
   "cell_type": "markdown",
   "metadata": {},
   "source": [
    "# Transposition Cipher\n",
    "\n",
    "The Caesar cipher isn’t secure; it doesn’t take much for a computer to brute-force through all 66 possible keys. The transposition cipher, on the other hand, is more difficult to brute-force because the number of possible keys depends on the message’s length. There are many different types of transposition ciphers, including the rail fence cipher, route cipher, Myszkowski transposition cipher, and disrupted transposition cipher. This is the implementation of a simple transposition cipher called the columnar transposition cipher."
   ]
  },
  {
   "cell_type": "code",
   "execution_count": 1,
   "metadata": {
    "ExecuteTime": {
     "end_time": "2020-05-21T07:47:50.142145Z",
     "start_time": "2020-05-21T07:47:50.136164Z"
    }
   },
   "outputs": [],
   "source": [
    "import math"
   ]
  },
  {
   "cell_type": "markdown",
   "metadata": {},
   "source": [
    "The steps for encrypting with the transposition cipher are as follows:\n",
    "\n",
    "* Count the number of characters in the message and the key.\n",
    "\n",
    "* Draw a row of a number of boxes equal to the key (for example, 8 boxes for a key of 8).\n",
    "\n",
    "* Start filling in the boxes from left to right, entering one character per box.\n",
    "\n",
    "* When you run out of boxes but still have more characters, add another row of boxes.\n",
    "\n",
    "* When you reach the last character, shade in the unused boxes in the last row.\n",
    "\n",
    "* Starting from the top left and going down each column, write out the characters. When you get to the bottom of a column, move to the next column to the right. Skip any shaded boxes. This will be the ciphertext."
   ]
  },
  {
   "cell_type": "code",
   "execution_count": 2,
   "metadata": {
    "ExecuteTime": {
     "end_time": "2020-05-21T07:47:50.287982Z",
     "start_time": "2020-05-21T07:47:50.145139Z"
    }
   },
   "outputs": [],
   "source": [
    "def encryptTranspositionCipher(message, key):\n",
    "    ciphertext = [''] * key\n",
    "    \n",
    "    for column in range(key):\n",
    "        currentIndex = column\n",
    "        \n",
    "        while currentIndex < len(message):\n",
    "            ciphertext[column] += message[currentIndex]\n",
    "            currentIndex += key\n",
    "            \n",
    "    return ''.join(ciphertext)"
   ]
  },
  {
   "cell_type": "code",
   "execution_count": 3,
   "metadata": {
    "ExecuteTime": {
     "end_time": "2020-05-21T07:47:50.418680Z",
     "start_time": "2020-05-21T07:47:50.290970Z"
    }
   },
   "outputs": [
    {
     "data": {
      "text/plain": [
       "'H deW!lolrol'"
      ]
     },
     "execution_count": 3,
     "metadata": {},
     "output_type": "execute_result"
    }
   ],
   "source": [
    "encryptTranspositionCipher('Hello World!', 5)"
   ]
  },
  {
   "cell_type": "markdown",
   "metadata": {},
   "source": [
    "The steps for decrypting are as follows:\n",
    "\n",
    "* Calculate the number of columns you need by dividing the length of the message by the key and then rounding up.\n",
    "\n",
    "* Draw boxes in columns and rows. Use the number of columns you calculated in step 1. The number of rows is the same as the key.\n",
    "\n",
    "* Calculate the number of boxes to shade in by taking the total number of boxes (the number of rows multiplied by the number of columns) and subtracting the length of the ciphertext message.\n",
    "\n",
    "* Shade in the number of boxes you calculated in step 3 at the bottom of the rightmost column.\n",
    "\n",
    "* Fill in the characters of the ciphertext starting at the top row and going from left to right. Skip any of the shaded boxes.\n",
    "\n",
    "* Get the plaintext by reading the leftmost column from top to bottom, and continuing to do the same in each column."
   ]
  },
  {
   "cell_type": "code",
   "execution_count": 4,
   "metadata": {
    "ExecuteTime": {
     "end_time": "2020-05-21T07:47:50.533079Z",
     "start_time": "2020-05-21T07:47:50.421671Z"
    }
   },
   "outputs": [],
   "source": [
    "def decryptTranspositionCipher(encrypted, key):\n",
    "    numOfColumns = int(math.ceil(len(encrypted) / float(key)))\n",
    "\n",
    "    numOfRows = key\n",
    "\n",
    "    numOfShadedBoxes = (numOfColumns * numOfRows) - len(encrypted)\n",
    "\n",
    "    plaintext = [''] * numOfColumns\n",
    "\n",
    "    column = 0\n",
    "    row = 0\n",
    "    \n",
    "    for symbol in encrypted:\n",
    "        plaintext[column] += symbol\n",
    "        column += 1 \n",
    "\n",
    "        if (column == numOfColumns) or (column == numOfColumns - 1 and row >= numOfRows - numOfShadedBoxes):\n",
    "            column = 0\n",
    "            row += 1\n",
    "\n",
    "    return ''.join(plaintext)"
   ]
  },
  {
   "cell_type": "code",
   "execution_count": 5,
   "metadata": {
    "ExecuteTime": {
     "end_time": "2020-05-21T07:47:50.657504Z",
     "start_time": "2020-05-21T07:47:50.535074Z"
    }
   },
   "outputs": [
    {
     "data": {
      "text/plain": [
       "'Hello World!'"
      ]
     },
     "execution_count": 5,
     "metadata": {},
     "output_type": "execute_result"
    }
   ],
   "source": [
    "decryptTranspositionCipher('H deW!lolrol', 5)"
   ]
  },
  {
   "cell_type": "markdown",
   "metadata": {
    "ExecuteTime": {
     "end_time": "2020-05-21T06:16:41.203775Z",
     "start_time": "2020-05-21T06:16:41.152914Z"
    }
   },
   "source": [
    "# Hacking the Transposition Cipher"
   ]
  },
  {
   "cell_type": "code",
   "execution_count": 6,
   "metadata": {
    "ExecuteTime": {
     "end_time": "2020-05-21T07:47:50.824623Z",
     "start_time": "2020-05-21T07:47:50.661492Z"
    }
   },
   "outputs": [],
   "source": [
    "from cracking_codes.utils import detect_english"
   ]
  },
  {
   "cell_type": "code",
   "execution_count": 7,
   "metadata": {
    "ExecuteTime": {
     "end_time": "2020-05-21T07:47:50.912146Z",
     "start_time": "2020-05-21T07:47:50.827588Z"
    }
   },
   "outputs": [],
   "source": [
    "def hackTranspositionCipher(message):\n",
    "    for key in range(1, len(message)):\n",
    "        print(f'Trying key #{key}...')\n",
    "\n",
    "        decryptedText = decryptTranspositionCipher(message, key)\n",
    "        \n",
    "        if detect_english.isEnglish(decryptedText):\n",
    "            print()\n",
    "            print('Possible encryption hack:')\n",
    "            print(decryptedText[:100])\n",
    "            print()\n",
    "    print('Done')"
   ]
  },
  {
   "cell_type": "code",
   "execution_count": 8,
   "metadata": {
    "ExecuteTime": {
     "end_time": "2020-05-21T07:47:51.039247Z",
     "start_time": "2020-05-21T07:47:50.914139Z"
    }
   },
   "outputs": [
    {
     "name": "stdout",
     "output_type": "stream",
     "text": [
      "Trying key #1...\n",
      "Trying key #2...\n",
      "Trying key #3...\n",
      "Trying key #4...\n",
      "Trying key #5...\n",
      "\n",
      "Possible encryption hack:\n",
      "Hello World!\n",
      "\n",
      "Trying key #6...\n",
      "Trying key #7...\n",
      "Trying key #8...\n",
      "Trying key #9...\n",
      "Trying key #10...\n",
      "Trying key #11...\n",
      "Done\n"
     ]
    }
   ],
   "source": [
    "hackTranspositionCipher('H deW!lolrol')"
   ]
  }
 ],
 "metadata": {
  "kernelspec": {
   "display_name": "Python 3",
   "language": "python",
   "name": "python3"
  },
  "language_info": {
   "codemirror_mode": {
    "name": "ipython",
    "version": 3
   },
   "file_extension": ".py",
   "mimetype": "text/x-python",
   "name": "python",
   "nbconvert_exporter": "python",
   "pygments_lexer": "ipython3",
   "version": "3.7.3"
  },
  "toc": {
   "base_numbering": 1,
   "nav_menu": {},
   "number_sections": true,
   "sideBar": true,
   "skip_h1_title": false,
   "title_cell": "Table of Contents",
   "title_sidebar": "Contents",
   "toc_cell": false,
   "toc_position": {},
   "toc_section_display": true,
   "toc_window_display": false
  },
  "varInspector": {
   "cols": {
    "lenName": 16,
    "lenType": 16,
    "lenVar": 40
   },
   "kernels_config": {
    "python": {
     "delete_cmd_postfix": "",
     "delete_cmd_prefix": "del ",
     "library": "var_list.py",
     "varRefreshCmd": "print(var_dic_list())"
    },
    "r": {
     "delete_cmd_postfix": ") ",
     "delete_cmd_prefix": "rm(",
     "library": "var_list.r",
     "varRefreshCmd": "cat(var_dic_list()) "
    }
   },
   "types_to_exclude": [
    "module",
    "function",
    "builtin_function_or_method",
    "instance",
    "_Feature"
   ],
   "window_display": false
  }
 },
 "nbformat": 4,
 "nbformat_minor": 2
}
