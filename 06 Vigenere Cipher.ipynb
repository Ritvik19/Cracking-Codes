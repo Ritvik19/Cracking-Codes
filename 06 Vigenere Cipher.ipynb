{
 "cells": [
  {
   "cell_type": "markdown",
   "metadata": {},
   "source": [
    "# Vigenere Cipher\n",
    "\n",
    "The Italian cryptographer Giovan Battista Bellaso was the first person to describe the Vigenère cipher in 1553, but it was eventually named after the French diplomat Blaise de Vigenère, one of many people who reinvented the cipher in subsequent years. It was known as “le chiffre indéchiffrable,” which means “the indecipherable cipher,” and remained unbroken until British polymath Charles Babbage broke it in the 19th century.\n",
    "\n",
    "Because the Vigenère cipher has too many possible keys to brute-force, even with our English detection module, it’s a quite strong ciphers. It’s even invincible to the word pattern attack."
   ]
  },
  {
   "cell_type": "markdown",
   "metadata": {},
   "source": [
    "Unlike the Caesar cipher, the Vigenère cipher has multiple keys. Because it uses more than one set of substitutions, the Vigenère cipher is a polyalphabetic substitution cipher. Unlike with the simple substitution cipher, frequency analysis alone will not defeat the Vigenère cipher. Instead of using a numeric key between 0 and 25 as we did in the Caesar cipher, we use a letter key for the Vigenère.\n",
    "\n",
    "The Vigenère key is a series of letters, such as a single English word, that is split into multiple single-letter subkeys that encrypt letters in the plaintext. For example, if we use a Vigenère key of PIZZA, the first subkey is P, the second subkey is I, the third and fourth subkeys are both Z, and the fifth subkey is A. The first subkey encrypts the first letter of the plaintext, the second subkey encrypts the second letter, and so on. When we get to the sixth letter of the plaintext, we return to the first subkey.\n",
    "\n",
    "Using the Vigenère cipher is the same as using multiple Caesar ciphers. Instead of encrypting the whole plaintext with one Caesar cipher, we apply a different Caesar cipher to each letter of the plaintext.\n",
    "\n",
    "Each subkey is converted into an integer and serves as a Caesar cipher key. For example, the letter A corresponds to the Caesar cipher key 0. The letter B corresponds to key 1, and so on up to Z for key 25"
   ]
  },
  {
   "cell_type": "markdown",
   "metadata": {},
   "source": [
    "## Longer Vigenère Keys Are More Secure\n",
    "The more letters in the Vigenère key, the stronger the encrypted message will be against a brute-force attack. PIZZA is a poor choice for a Vigenère key because it has only five letters. A key with five letters has 11,881,376 possible combinations (because 26 letters to the power of 5 is 265 = 26 × 26 × 26 × 26 × 26 = 11,881,376). Eleven million keys are far too many for a human to brute-force, but a computer can try them all in just a few hours. It would first try to decrypt the message using the key AAAAA and check whether the resulting decryption was in English. Then it could try AAAAB, then AAAAC, and so on until it got to PIZZA."
   ]
  },
  {
   "cell_type": "code",
   "execution_count": 1,
   "metadata": {
    "ExecuteTime": {
     "end_time": "2020-05-21T13:28:42.682377Z",
     "start_time": "2020-05-21T13:28:42.677402Z"
    }
   },
   "outputs": [],
   "source": [
    "LETTERS = 'ABCDEFGHIJKLMNOPQRSTUVWXYZ'"
   ]
  },
  {
   "cell_type": "code",
   "execution_count": 2,
   "metadata": {
    "ExecuteTime": {
     "end_time": "2020-05-21T13:28:42.855481Z",
     "start_time": "2020-05-21T13:28:42.688360Z"
    }
   },
   "outputs": [],
   "source": [
    "def encryptVigenereCipher(key, message):\n",
    "    return translateMessage(key, message, 'encrypt')\n",
    "\n",
    "\n",
    "def decryptVigenereCipher(key, message):\n",
    "    return translateMessage(key, message, 'decrypt')\n",
    "\n",
    "\n",
    "def translateMessage(key, message, mode):\n",
    "    translated = []\n",
    "\n",
    "    keyIndex = 0\n",
    "    key = key.upper()\n",
    "\n",
    "    for symbol in message:\n",
    "        num = LETTERS.find(symbol.upper())\n",
    "        if num != -1:\n",
    "            if mode == 'encrypt':\n",
    "                num += LETTERS.find(key[keyIndex])\n",
    "            elif mode == 'decrypt':\n",
    "                num -= LETTERS.find(key[keyIndex])\n",
    "\n",
    "            num %= len(LETTERS)\n",
    "\n",
    "            if symbol.isupper():\n",
    "                translated.append(LETTERS[num])\n",
    "            elif symbol.islower():\n",
    "                translated.append(LETTERS[num].lower())\n",
    "\n",
    "            keyIndex += 1\n",
    "            if keyIndex == len(key):\n",
    "                keyIndex = 0\n",
    "        else:\n",
    "            translated.append(symbol)\n",
    "\n",
    "    return ''.join(translated)"
   ]
  },
  {
   "cell_type": "code",
   "execution_count": 3,
   "metadata": {
    "ExecuteTime": {
     "end_time": "2020-05-21T13:28:43.008315Z",
     "start_time": "2020-05-21T13:28:42.863455Z"
    }
   },
   "outputs": [],
   "source": [
    "message = \"Alan Mathison Turing was a British mathematician, logician, cryptanalyst, and computer scientist.\"\n",
    "KEY = 'PIZZA'"
   ]
  },
  {
   "cell_type": "code",
   "execution_count": 4,
   "metadata": {
    "ExecuteTime": {
     "end_time": "2020-05-21T13:28:43.181875Z",
     "start_time": "2020-05-21T13:28:43.014301Z"
    }
   },
   "outputs": [
    {
     "data": {
      "text/plain": [
       "'Ptzm Mpbghsdv Strxvf vah i Aqiiqrg mpbgdmpbhbipv, kngxkhzn, rzxotpvzkyhb, zmd rwlouimq rcxmmsihb.'"
      ]
     },
     "execution_count": 4,
     "metadata": {},
     "output_type": "execute_result"
    }
   ],
   "source": [
    "encrypted = encryptVigenereCipher(KEY, message)\n",
    "encrypted"
   ]
  },
  {
   "cell_type": "code",
   "execution_count": 5,
   "metadata": {
    "ExecuteTime": {
     "end_time": "2020-05-21T13:28:43.328907Z",
     "start_time": "2020-05-21T13:28:43.188820Z"
    }
   },
   "outputs": [
    {
     "data": {
      "text/plain": [
       "'Alan Mathison Turing was a British mathematician, logician, cryptanalyst, and computer scientist.'"
      ]
     },
     "execution_count": 5,
     "metadata": {},
     "output_type": "execute_result"
    }
   ],
   "source": [
    "decryptVigenereCipher(KEY, encrypted)"
   ]
  },
  {
   "cell_type": "markdown",
   "metadata": {},
   "source": [
    "# Hacking Vigenere Cipher\n",
    "\n",
    "Two methods exist to hack the Vigenère cipher. One method uses a brute-force dictionary attack to try every word in the dictionary file as the Vigenère key, which works only if the key is an English word, such as RAVEN or DESK. The second, more sophisticated method, which was used by the 19th-century mathematician Charles Babbage, works even when the key is a random group of letters, such as VUWFE or PNFJ."
   ]
  },
  {
   "cell_type": "code",
   "execution_count": 6,
   "metadata": {
    "ExecuteTime": {
     "end_time": "2020-05-21T13:28:43.505737Z",
     "start_time": "2020-05-21T13:28:43.331869Z"
    }
   },
   "outputs": [],
   "source": [
    "from cracking_codes.utils import detect_english"
   ]
  },
  {
   "cell_type": "code",
   "execution_count": 7,
   "metadata": {
    "ExecuteTime": {
     "end_time": "2020-05-21T13:28:43.655490Z",
     "start_time": "2020-05-21T13:28:43.507643Z"
    }
   },
   "outputs": [],
   "source": [
    "def hackVigenereDictionary(ciphertext):\n",
    "    words = list(detect_english.loadDictionary().keys())\n",
    "\n",
    "    for word in words:\n",
    "        decryptedText = decryptVigenereCipher(word, ciphertext)\n",
    "        if detect_english.isEnglish(decryptedText, wordPercentage=40):\n",
    "            print()\n",
    "            print('Possible encryption break:')\n",
    "            print('Key ' + str(word) + ': ' + decryptedText[:100])\n",
    "            print()\n",
    "    print('Done')"
   ]
  },
  {
   "cell_type": "code",
   "execution_count": 8,
   "metadata": {
    "ExecuteTime": {
     "end_time": "2020-05-21T13:28:46.837254Z",
     "start_time": "2020-05-21T13:28:43.663472Z"
    }
   },
   "outputs": [
    {
     "name": "stdout",
     "output_type": "stream",
     "text": [
      "\n",
      "Possible encryption break:\n",
      "Key ASTROLOGY: The recl yecrets crk not the qnks I tell.\n",
      "\n",
      "\n",
      "Possible encryption break:\n",
      "Key ASTRONOMY: The real secrets are not the ones I tell.\n",
      "\n",
      "\n",
      "Possible encryption break:\n",
      "Key METRONOME: Hve real syqfets are hch the onem W hell.\n",
      "\n",
      "Done\n"
     ]
    }
   ],
   "source": [
    "ciphertext = \"Tzx isnz eccjxkg nfq lol mys bbqq I lxcz.\"\n",
    "hackedMessage = hackVigenereDictionary(ciphertext)"
   ]
  },
  {
   "cell_type": "markdown",
   "metadata": {},
   "source": [
    "# The Unbreakable One-Time Pad Cipher\n",
    "The one-time pad cipher is a Vigenère cipher that becomes unbreakable when the key meets the following criteria:\n",
    "\n",
    "It is exactly as long as the encrypted message.\n",
    "\n",
    "It is made up of truly random symbols.\n",
    "\n",
    "It is used only once and never again for any other message.\n",
    "\n",
    "By following these three rules, you can make your encrypted message invulnerable to any cryptanalyst’s attack. Even with infinite computing power, the cipher cannot be broken.\n",
    "\n",
    "The key for the one-time pad cipher is called a pad because the keys used to be printed on pads of paper. After the top sheet of paper was used, it would be torn off the pad to reveal the next key to use. Usually, a large list of one-time pad keys is generated and shared in person, and the keys are marked for specific dates. For example, if we received a message from our collaborator on October 31, we would just look through the list of one-time pads to find the corresponding key for that day."
   ]
  },
  {
   "cell_type": "code",
   "execution_count": null,
   "metadata": {},
   "outputs": [],
   "source": []
  }
 ],
 "metadata": {
  "kernelspec": {
   "display_name": "Python 3",
   "language": "python",
   "name": "python3"
  },
  "language_info": {
   "codemirror_mode": {
    "name": "ipython",
    "version": 3
   },
   "file_extension": ".py",
   "mimetype": "text/x-python",
   "name": "python",
   "nbconvert_exporter": "python",
   "pygments_lexer": "ipython3",
   "version": "3.7.3"
  },
  "toc": {
   "base_numbering": 1,
   "nav_menu": {},
   "number_sections": true,
   "sideBar": true,
   "skip_h1_title": false,
   "title_cell": "Table of Contents",
   "title_sidebar": "Contents",
   "toc_cell": false,
   "toc_position": {},
   "toc_section_display": true,
   "toc_window_display": false
  },
  "varInspector": {
   "cols": {
    "lenName": 16,
    "lenType": 16,
    "lenVar": 40
   },
   "kernels_config": {
    "python": {
     "delete_cmd_postfix": "",
     "delete_cmd_prefix": "del ",
     "library": "var_list.py",
     "varRefreshCmd": "print(var_dic_list())"
    },
    "r": {
     "delete_cmd_postfix": ") ",
     "delete_cmd_prefix": "rm(",
     "library": "var_list.r",
     "varRefreshCmd": "cat(var_dic_list()) "
    }
   },
   "types_to_exclude": [
    "module",
    "function",
    "builtin_function_or_method",
    "instance",
    "_Feature"
   ],
   "window_display": false
  }
 },
 "nbformat": 4,
 "nbformat_minor": 2
}
