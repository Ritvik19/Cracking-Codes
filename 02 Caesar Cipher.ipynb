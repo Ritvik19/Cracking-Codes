{
 "cells": [
  {
   "cell_type": "markdown",
   "metadata": {},
   "source": [
    "# Caesar Cipher\n",
    "\n",
    "The Caesar cipher uses keys, which encrypt the message differently depending on which key is used. The keys for the Caesar cipher are the integers from 0 to 25. Even if a cryptanalyst knows the Caesar cipher was used, that alone doesn’t give them enough information to break the cipher. They must also know the key."
   ]
  },
  {
   "cell_type": "code",
   "execution_count": 1,
   "metadata": {
    "ExecuteTime": {
     "end_time": "2020-05-21T04:56:07.156531Z",
     "start_time": "2020-05-21T04:56:07.144049Z"
    }
   },
   "outputs": [],
   "source": [
    "SYMBOLS = 'ABCDEFGHIJKLMNOPQRSTUVWXYZabcdefghijklmnopqrstuvwxyz1234567890 !?.'\n",
    "\n",
    "def encryptCaesarCipher(message, key):\n",
    "    translated = ''\n",
    "    for symbol in message:\n",
    "        if symbol in SYMBOLS:\n",
    "            symbolIndex = SYMBOLS.find(symbol)\n",
    "            translatedIndex = (symbolIndex + key)%len(SYMBOLS)\n",
    "            translated = translated + SYMBOLS[translatedIndex]\n",
    "        else:\n",
    "            translated = translated + symbol\n",
    "    return translated\n",
    "\n",
    "def decryptCaesarCipher(encrypted, key):\n",
    "    translated = ''\n",
    "    for symbol in encrypted:\n",
    "        if symbol in SYMBOLS:\n",
    "            symbolIndex = SYMBOLS.find(symbol)\n",
    "            translatedIndex = (symbolIndex - key)%len(SYMBOLS)\n",
    "            translated = translated + SYMBOLS[translatedIndex]\n",
    "        else:\n",
    "            translated = translated + symbol\n",
    "    return translated"
   ]
  },
  {
   "cell_type": "code",
   "execution_count": 2,
   "metadata": {
    "ExecuteTime": {
     "end_time": "2020-05-21T04:56:07.325585Z",
     "start_time": "2020-05-21T04:56:07.159525Z"
    }
   },
   "outputs": [
    {
     "data": {
      "text/plain": [
       "'Uryy2,Jj25yqK'"
      ]
     },
     "execution_count": 2,
     "metadata": {},
     "output_type": "execute_result"
    }
   ],
   "source": [
    "encryptCaesarCipher('Hello, World!', 13)"
   ]
  },
  {
   "cell_type": "code",
   "execution_count": 3,
   "metadata": {
    "ExecuteTime": {
     "end_time": "2020-05-21T04:56:07.448256Z",
     "start_time": "2020-05-21T04:56:07.332565Z"
    }
   },
   "outputs": [
    {
     "data": {
      "text/plain": [
       "'Hello, World!'"
      ]
     },
     "execution_count": 3,
     "metadata": {},
     "output_type": "execute_result"
    }
   ],
   "source": [
    "decryptCaesarCipher('Uryy2,Jj25yqK', 13)"
   ]
  },
  {
   "cell_type": "markdown",
   "metadata": {},
   "source": [
    "# Hacking Caesar Cipher With Brute-Force\n",
    "\n",
    "We can hack the Caesar cipher by using a cryptanalytic technique called brute-force. A brute-force attack tries every possible decryption key for a cipher. Nothing stops a cryptanalyst from guessing one key, decrypting the ciphertext with that key, looking at the output, and then moving on to the next key if they didn’t find the secret message. Because the brute-force technique is so effective against the Caesar cipher, you shouldn’t actually use the Caesar cipher to encrypt secret information.\n",
    "\n",
    "Ideally, the ciphertext would never fall into anyone’s hands. But Kerckhoffs’s principle (named after the 19th-century cryptographer Auguste Kerckhoffs) states that a cipher should still be secure even if everyone knows how the cipher works and someone else has the ciphertext. This principle was restated by the 20th-century mathematician Claude Shannon as Shannon’s maxim: “The enemy knows the system.” The part of the cipher that keeps the message secret is the key, and for the Caesar cipher this information is very easy to find."
   ]
  },
  {
   "cell_type": "code",
   "execution_count": 4,
   "metadata": {
    "ExecuteTime": {
     "end_time": "2020-05-21T04:56:07.580900Z",
     "start_time": "2020-05-21T04:56:07.452245Z"
    }
   },
   "outputs": [],
   "source": [
    "def hackCaesarCipher(encrypted):\n",
    "    for key in range(len(SYMBOLS)):\n",
    "        translated = ''\n",
    "        for symbol in encrypted:\n",
    "            if symbol in SYMBOLS:\n",
    "                symbolIndex = SYMBOLS.find(symbol)\n",
    "                translatedIndex = (symbolIndex - key)%len(SYMBOLS)\n",
    "                translated = translated + SYMBOLS[translatedIndex]\n",
    "            else:\n",
    "                translated = translated + symbol\n",
    "        print('Key', key, ':', translated)"
   ]
  },
  {
   "cell_type": "code",
   "execution_count": 5,
   "metadata": {
    "ExecuteTime": {
     "end_time": "2020-05-21T04:56:07.735421Z",
     "start_time": "2020-05-21T04:56:07.583894Z"
    }
   },
   "outputs": [
    {
     "name": "stdout",
     "output_type": "stream",
     "text": [
      "Key 0 : Uryy2,Jj25yqK\n",
      "Key 1 : Tqxx1,Ii14xpJ\n",
      "Key 2 : Spwwz,Hhz3woI\n",
      "Key 3 : Rovvy,Ggy2vnH\n",
      "Key 4 : Qnuux,Ffx1umG\n",
      "Key 5 : Pmttw,EewztlF\n",
      "Key 6 : Olssv,DdvyskE\n",
      "Key 7 : Nkrru,CcuxrjD\n",
      "Key 8 : Mjqqt,BbtwqiC\n",
      "Key 9 : Lipps,AasvphB\n",
      "Key 10 : Khoor,.ZruogA\n",
      "Key 11 : Jgnnq,?Yqtnf.\n",
      "Key 12 : Ifmmp,!Xpsme?\n",
      "Key 13 : Hello, World!\n",
      "Key 14 : Gdkkn,0Vnqkc \n",
      "Key 15 : Fcjjm,9Umpjb0\n",
      "Key 16 : Ebiil,8Tloia9\n",
      "Key 17 : Dahhk,7SknhZ8\n",
      "Key 18 : CZggj,6RjmgY7\n",
      "Key 19 : BYffi,5QilfX6\n",
      "Key 20 : AXeeh,4PhkeW5\n",
      "Key 21 : .Wddg,3OgjdV4\n",
      "Key 22 : ?Vccf,2NficU3\n",
      "Key 23 : !Ubbe,1MehbT2\n",
      "Key 24 :  Taad,zLdgaS1\n",
      "Key 25 : 0SZZc,yKcfZRz\n",
      "Key 26 : 9RYYb,xJbeYQy\n",
      "Key 27 : 8QXXa,wIadXPx\n",
      "Key 28 : 7PWWZ,vHZcWOw\n",
      "Key 29 : 6OVVY,uGYbVNv\n",
      "Key 30 : 5NUUX,tFXaUMu\n",
      "Key 31 : 4MTTW,sEWZTLt\n",
      "Key 32 : 3LSSV,rDVYSKs\n",
      "Key 33 : 2KRRU,qCUXRJr\n",
      "Key 34 : 1JQQT,pBTWQIq\n",
      "Key 35 : zIPPS,oASVPHp\n",
      "Key 36 : yHOOR,n.RUOGo\n",
      "Key 37 : xGNNQ,m?QTNFn\n",
      "Key 38 : wFMMP,l!PSMEm\n",
      "Key 39 : vELLO,k ORLDl\n",
      "Key 40 : uDKKN,j0NQKCk\n",
      "Key 41 : tCJJM,i9MPJBj\n",
      "Key 42 : sBIIL,h8LOIAi\n",
      "Key 43 : rAHHK,g7KNH.h\n",
      "Key 44 : q.GGJ,f6JMG?g\n",
      "Key 45 : p?FFI,e5ILF!f\n",
      "Key 46 : o!EEH,d4HKE e\n",
      "Key 47 : n DDG,c3GJD0d\n",
      "Key 48 : m0CCF,b2FIC9c\n",
      "Key 49 : l9BBE,a1EHB8b\n",
      "Key 50 : k8AAD,ZzDGA7a\n",
      "Key 51 : j7..C,YyCF.6Z\n",
      "Key 52 : i6??B,XxBE?5Y\n",
      "Key 53 : h5!!A,WwAD!4X\n",
      "Key 54 : g4  .,Vv.C 3W\n",
      "Key 55 : f300?,Uu?B02V\n",
      "Key 56 : e299!,Tt!A91U\n",
      "Key 57 : d188 ,Ss .8zT\n",
      "Key 58 : cz770,Rr0?7yS\n",
      "Key 59 : by669,Qq9!6xR\n",
      "Key 60 : ax558,Pp8 5wQ\n",
      "Key 61 : Zw447,Oo704vP\n",
      "Key 62 : Yv336,Nn693uO\n",
      "Key 63 : Xu225,Mm582tN\n",
      "Key 64 : Wt114,Ll471sM\n",
      "Key 65 : Vszz3,Kk36zrL\n"
     ]
    }
   ],
   "source": [
    "hackCaesarCipher('Uryy2,Jj25yqK')"
   ]
  },
  {
   "cell_type": "code",
   "execution_count": null,
   "metadata": {},
   "outputs": [],
   "source": []
  }
 ],
 "metadata": {
  "kernelspec": {
   "display_name": "Python 3",
   "language": "python",
   "name": "python3"
  },
  "language_info": {
   "codemirror_mode": {
    "name": "ipython",
    "version": 3
   },
   "file_extension": ".py",
   "mimetype": "text/x-python",
   "name": "python",
   "nbconvert_exporter": "python",
   "pygments_lexer": "ipython3",
   "version": "3.7.3"
  },
  "toc": {
   "base_numbering": 1,
   "nav_menu": {},
   "number_sections": true,
   "sideBar": true,
   "skip_h1_title": false,
   "title_cell": "Table of Contents",
   "title_sidebar": "Contents",
   "toc_cell": false,
   "toc_position": {},
   "toc_section_display": true,
   "toc_window_display": false
  },
  "varInspector": {
   "cols": {
    "lenName": 16,
    "lenType": 16,
    "lenVar": 40
   },
   "kernels_config": {
    "python": {
     "delete_cmd_postfix": "",
     "delete_cmd_prefix": "del ",
     "library": "var_list.py",
     "varRefreshCmd": "print(var_dic_list())"
    },
    "r": {
     "delete_cmd_postfix": ") ",
     "delete_cmd_prefix": "rm(",
     "library": "var_list.r",
     "varRefreshCmd": "cat(var_dic_list()) "
    }
   },
   "types_to_exclude": [
    "module",
    "function",
    "builtin_function_or_method",
    "instance",
    "_Feature"
   ],
   "window_display": false
  }
 },
 "nbformat": 4,
 "nbformat_minor": 2
}
